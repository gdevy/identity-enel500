{
 "cells": [
  {
   "cell_type": "code",
   "execution_count": 1,
   "id": "a5eea4d4-398a-494e-bc08-c50edee7eff1",
   "metadata": {},
   "outputs": [],
   "source": [
    "from pathlib import Path\n",
    "import numpy as np\n",
    "\n",
    "from cv2 import cv2\n",
    "from deepface import DeepFace\n",
    "\n",
    "model_selection = \"OpenFace\"\n",
    "\n",
    "p = Path(\"/Users/gregdevyatov/School/ENGG500/lfw/\")\n"
   ]
  },
  {
   "cell_type": "code",
   "execution_count": 2,
   "id": "3d97248c-08b8-45d2-9214-841ec5cb2d55",
   "metadata": {},
   "outputs": [
    {
     "name": "stdout",
     "output_type": "stream",
     "text": [
      "coulnd't find face in /Users/gregdevyatov/School/ENGG500/lfw/Andy_Roddick/Andy_Roddick_0004.jpg\n",
      "coulnd't find face in /Users/gregdevyatov/School/ENGG500/lfw/Andy_Roddick/Andy_Roddick_0010.jpg\n",
      "coulnd't find face in /Users/gregdevyatov/School/ENGG500/lfw/Andy_Roddick/Andy_Roddick_0005.jpg\n",
      "coulnd't find face in /Users/gregdevyatov/School/ENGG500/lfw/Andy_Roddick/Andy_Roddick_0002.jpg\n",
      "coulnd't find face in /Users/gregdevyatov/School/ENGG500/lfw/Andy_Roddick/Andy_Roddick_0015.jpg\n"
     ]
    }
   ],
   "source": [
    "in_class_name = \"Andy_Roddick\"\n",
    "in_class_embeddings = []\n",
    "for image_p in (p / in_class_name).iterdir():\n",
    "    image = cv2.imread(str(image_p))\n",
    "    try:\n",
    "        embedding = DeepFace.represent(image, model_name=model_selection)\n",
    "    except ValueError as err:\n",
    "        print(f\"coulnd't find face in {image_p}\")\n",
    "        continue\n",
    "    in_class_embeddings.append(np.array(embedding))"
   ]
  },
  {
   "cell_type": "code",
   "execution_count": 6,
   "id": "8c68e2ab-40ec-42de-96d1-94983ce55c5c",
   "metadata": {},
   "outputs": [],
   "source": [
    "embeddings = np.array(in_class_embeddings)"
   ]
  },
  {
   "cell_type": "code",
   "execution_count": 9,
   "id": "aa1eefb2-5044-44c6-8630-389445d6cb9f",
   "metadata": {},
   "outputs": [],
   "source": [
    "inclass_mean = np.mean(embeddings,0 )"
   ]
  },
  {
   "cell_type": "code",
   "execution_count": 13,
   "id": "461e3117-a64c-4f88-aa61-015122062e35",
   "metadata": {},
   "outputs": [
    {
     "data": {
      "text/plain": [
       "array([ 0.00934303, -0.0027566 ,  0.00618753, -0.00313053, -0.00469384,\n",
       "       -0.00298807,  0.00403312, -0.00030287, -0.00086113, -0.00483064])"
      ]
     },
     "execution_count": 13,
     "metadata": {},
     "output_type": "execute_result"
    }
   ],
   "source": [
    "np.mean(embeddings - inclass_mean, 1)"
   ]
  },
  {
   "cell_type": "code",
   "execution_count": 15,
   "id": "0d89a621-b453-4340-9798-e37941def91b",
   "metadata": {},
   "outputs": [
    {
     "name": "stdout",
     "output_type": "stream",
     "text": [
      "[0.8872248324224656]\n",
      "[0.7810784202802328]\n",
      "coulnd't find face in /Users/gregdevyatov/School/ENGG500/lfw/Angela_Lansbury/Angela_Lansbury_0002.jpg\n",
      "[0.9745154830978915]\n",
      "[0.686161962071055]\n",
      "[0.8999132580280961]\n",
      "[0.8992196924760941, 0.7435496346756729, 0.7483971812795046, 1.1117720205185628]\n",
      "[0.688364629096879, 0.7373361391538341]\n",
      "[1.2325664989833223]\n",
      "[0.5380418838067506]\n",
      "[0.9078069821278296]\n",
      "[0.8634633063669684]\n",
      "coulnd't find face in /Users/gregdevyatov/School/ENGG500/lfw/Alma_Powell/Alma_Powell_0001.jpg\n",
      "[]\n",
      "[0.8426747283862009]\n",
      "[1.1168745264884061]\n",
      "[0.6519406759606328]\n",
      "coulnd't find face in /Users/gregdevyatov/School/ENGG500/lfw/Andy_Roddick/Andy_Roddick_0004.jpg\n",
      "coulnd't find face in /Users/gregdevyatov/School/ENGG500/lfw/Andy_Roddick/Andy_Roddick_0010.jpg\n",
      "coulnd't find face in /Users/gregdevyatov/School/ENGG500/lfw/Andy_Roddick/Andy_Roddick_0005.jpg\n",
      "coulnd't find face in /Users/gregdevyatov/School/ENGG500/lfw/Andy_Roddick/Andy_Roddick_0002.jpg\n",
      "coulnd't find face in /Users/gregdevyatov/School/ENGG500/lfw/Andy_Roddick/Andy_Roddick_0015.jpg\n",
      "[0.571354165046766, 0.432479720557235, 0.5071081465755509, 0.5735063810020469, 0.5670759544634251, 0.5711243676229243, 0.6209837069321982, 0.4485685670910793, 0.8498301795028125, 0.5550765691118501]\n",
      "[0.7925387979070775]\n",
      "[0.5857957258263061]\n",
      "[0.9178766880495971]\n",
      "coulnd't find face in /Users/gregdevyatov/School/ENGG500/lfw/Aung_San_Suu_Kyi/Aung_San_Suu_Kyi_0001.jpg\n",
      "[0.8672064707984302]\n",
      "[0.7244296640751762]\n",
      "[0.8265515809196841]\n",
      "[0.5876601010496603, 0.6713878376826253, 0.6324677923450011, 0.5202798214712331]\n",
      "[0.6801022357035362, 0.9350129366694624]\n",
      "[0.9156995538811719]\n",
      "[0.7256946205904606]\n",
      "coulnd't find face in /Users/gregdevyatov/School/ENGG500/lfw/Abdullah_al-Attiyah/Abdullah_al-Attiyah_0001.jpg\n",
      "[0.9061308051287571, 0.8790563001772982]\n",
      "[0.7755971207815422, 0.7671709239453328, 0.8153293016759339, 0.7881212001132231, 0.8302309652317231, 1.0085287362150894, 0.9648685932620236, 0.9428137586074808]\n",
      "[0.9126783047494553]\n",
      "[0.5884719604158217]\n"
     ]
    }
   ],
   "source": [
    "for person in list(p.iterdir())[:30]:\n",
    "    dists = []\n",
    "    for image_p in person.iterdir():\n",
    "        image = cv2.imread(str(image_p))\n",
    "        try:\n",
    "            embedding = np.array(DeepFace.represent(image, model_name=model_selection))\n",
    "        except ValueError as err:\n",
    "            print(f\"coulnd't find face in {image_p}\")\n",
    "            continue\n",
    "\n",
    "        d = np.linalg.norm(embedding - inclass_mean)\n",
    "        dists.append(d)\n",
    "        \n",
    "    print(dists)"
   ]
  },
  {
   "cell_type": "code",
   "execution_count": null,
   "id": "262d591e-db7d-46e0-b2d8-227942c5a931",
   "metadata": {},
   "outputs": [],
   "source": []
  }
 ],
 "metadata": {
  "kernelspec": {
   "display_name": "Python 3 (ipykernel)",
   "language": "python",
   "name": "python3"
  },
  "language_info": {
   "codemirror_mode": {
    "name": "ipython",
    "version": 3
   },
   "file_extension": ".py",
   "mimetype": "text/x-python",
   "name": "python",
   "nbconvert_exporter": "python",
   "pygments_lexer": "ipython3",
   "version": "3.9.5"
  }
 },
 "nbformat": 4,
 "nbformat_minor": 5
}
